{
  "cells": [
    {
      "cell_type": "code",
      "execution_count": null,
      "metadata": {
        "id": "FFQ0BKDx59I3"
      },
      "outputs": [],
      "source": [
        "# !pip install langgraph langsmith langchain_groq langchain_community"
      ]
    },
    {
      "cell_type": "code",
      "execution_count": null,
      "metadata": {
        "id": "5_9aodKE6t5O"
      },
      "outputs": [],
      "source": [
        "groq_api_key = key"
      ]
    },
    {
      "cell_type": "code",
      "execution_count": 5,
      "metadata": {
        "id": "gcIofHiW8Q3V"
      },
      "outputs": [],
      "source": [
        "from langchain_groq import ChatGroq"
      ]
    },
    {
      "cell_type": "code",
      "execution_count": null,
      "metadata": {
        "id": "i4cJKql98CQZ"
      },
      "outputs": [],
      "source": [
        "LANGSMITH_API_KEY= key"
      ]
    },
    {
      "cell_type": "code",
      "execution_count": 7,
      "metadata": {
        "id": "7xM-fkdA8KOZ"
      },
      "outputs": [],
      "source": [
        "llm = ChatGroq(groq_api_key = groq_api_key, model_name = \"gemma2-9b-it\")"
      ]
    },
    {
      "cell_type": "code",
      "execution_count": 10,
      "metadata": {
        "id": "J1qmxczG8v3O"
      },
      "outputs": [],
      "source": [
        "from typing import Annotated\n",
        "from typing_extensions import TypedDict\n",
        "from langgraph.graph.message import add_messages\n",
        "from langgraph.graph import StateGraph, START, END"
      ]
    },
    {
      "cell_type": "code",
      "execution_count": 11,
      "metadata": {
        "id": "_S1p8lMs9Qcq"
      },
      "outputs": [],
      "source": [
        "class State(TypedDict):\n",
        "  messages:Annotated[list,add_messages]\n",
        "graph_builder = StateGraph(State)"
      ]
    },
    {
      "cell_type": "code",
      "execution_count": 12,
      "metadata": {
        "id": "eN714Ssd9kX_"
      },
      "outputs": [],
      "source": [
        "def chatbot(state:State):\n",
        "  return {\"messages\":llm.invoke(state['messages'])}"
      ]
    },
    {
      "cell_type": "code",
      "execution_count": 13,
      "metadata": {
        "colab": {
          "base_uri": "https://localhost:8080/"
        },
        "id": "3Qn2aj0R-N7_",
        "outputId": "31c7e498-14d7-41e6-8380-cc26dc015ffe"
      },
      "outputs": [
        {
          "data": {
            "text/plain": [
              "<langgraph.graph.state.StateGraph at 0x7c8f99f1d890>"
            ]
          },
          "execution_count": 13,
          "metadata": {},
          "output_type": "execute_result"
        }
      ],
      "source": [
        "graph_builder.add_node('chatbot',chatbot)"
      ]
    },
    {
      "cell_type": "code",
      "execution_count": 14,
      "metadata": {
        "colab": {
          "base_uri": "https://localhost:8080/"
        },
        "id": "Xjy_3481-eqi",
        "outputId": "b8c8c8f2-1044-449f-95aa-57ebc8192d2b"
      },
      "outputs": [
        {
          "data": {
            "text/plain": [
              "<langgraph.graph.state.StateGraph at 0x7c8f99f1d890>"
            ]
          },
          "execution_count": 14,
          "metadata": {},
          "output_type": "execute_result"
        }
      ],
      "source": [
        "graph_builder.add_edge(START, 'chatbot')\n",
        "graph_builder.add_edge('chatbot', END)"
      ]
    },
    {
      "cell_type": "code",
      "execution_count": 16,
      "metadata": {
        "colab": {
          "base_uri": "https://localhost:8080/",
          "height": 251
        },
        "id": "znS7ZGJf-07_",
        "outputId": "48e75a41-9444-493d-ed1c-7b71b1888437"
      },
      "outputs": [
        {
          "data": {
            "image/png": "[encoded data removed]",
            "text/plain": [
              "<langgraph.graph.state.CompiledStateGraph object at 0x7c8f96ce7410>"
            ]
          },
          "execution_count": 16,
          "metadata": {},
          "output_type": "execute_result"
        }
      ],
      "source": [
        "graph_builder.compile()"
      ]
    },
    {
      "cell_type": "code",
      "execution_count": 17,
      "metadata": {
        "id": "-IoIHNWS_Ig-"
      },
      "outputs": [],
      "source": [
        "graph = graph_builder.compile()"
      ]
    },
    {
      "cell_type": "code",
      "execution_count": 21,
      "metadata": {
        "colab": {
          "base_uri": "https://localhost:8080/"
        },
        "id": "cnbk0AtF_lLn",
        "outputId": "de043ed3-44af-488f-fbad-55d7121c8518"
      },
      "outputs": [
        {
          "name": "stdout",
          "output_type": "stream",
          "text": [
            "user:mcp vs a2a agents\n",
            "dict_values([{'messages': AIMessage(content='Let\\'s break down the differences between MCP and A2A agents in the context of reinforcement learning (RL).\\n\\n**MCP (Multi-Category Policy)**\\n\\n* **Focus:** Primarily used in scenarios with discrete action spaces (e.g., selecting one action from a finite set).\\n* **Mechanism:**  MCP agents learn a policy that directly maps observations (states) to individual actions. \\n* **Training:** Typically trained using methods like policy gradient algorithms (e.g., REINFORCE, PPO), where the agent learns to maximize the expected reward for taking specific actions in different states.\\n* **Flexibility:**  More suited for environments with a clear separation between possible actions.\\n\\n**A2A (Actor-Critic)**\\n\\n* **Focus:** General purpose, applicable to both discrete and continuous action spaces.\\n* **Architecture:** Employs two key components:\\n    * **Actor:** The \"policy network\" that learns to select actions based on the current state.\\n    * **Critic:** The \"value network\" that estimates the expected future rewards for taking actions in given states.\\n* **Training:** The actor network is trained to maximize rewards, guided by the critic network\\'s estimates of state values.  This combination helps the agent learn both good action selection policies and accurate value functions.\\n* **Flexibility:** Particularly powerful for continuous action spaces (e.g., controlling a robot arm), as it can learn smoother, more refined control policies.\\n\\n**Key Differences**\\n\\n* **Action Space:** MCP is generally better for discrete actions, while A2A is more versatile for both discrete and continuous actions.\\n* **Learning Components:** MCP focuses solely on the policy, while A2A integrates both the policy and a value function (critic).\\n* **Complexity:** A2A is typically more complex to implement than MCP due to the additional critic network.\\n\\n**Which to Choose?**\\n\\n* If you have a discrete action space and the problem is relatively straightforward, MCP might be a good starting point.\\n* If you need to handle continuous actions, or if your RL problem is more complex and requires fine-grained control, A2A is likely a better choice.\\n\\n\\n\\nLet me know if you have any more questions or would like to explore specific aspects in more detail!\\n', additional_kwargs={}, response_metadata={'token_usage': {'completion_tokens': 472, 'prompt_tokens': 16, 'total_tokens': 488, 'completion_time': 0.858181818, 'prompt_time': 0.001987826, 'queue_time': 0.017746732, 'total_time': 0.860169644}, 'model_name': 'gemma2-9b-it', 'system_fingerprint': 'fp_10c08bf97d', 'finish_reason': 'stop', 'logprobs': None}, id='run--aa4e6cf2-4fe4-4ffa-b1af-dae2658ac447-0', usage_metadata={'input_tokens': 16, 'output_tokens': 472, 'total_tokens': 488})}])\n",
            "content='Let\\'s break down the differences between MCP and A2A agents in the context of reinforcement learning (RL).\\n\\n**MCP (Multi-Category Policy)**\\n\\n* **Focus:** Primarily used in scenarios with discrete action spaces (e.g., selecting one action from a finite set).\\n* **Mechanism:**  MCP agents learn a policy that directly maps observations (states) to individual actions. \\n* **Training:** Typically trained using methods like policy gradient algorithms (e.g., REINFORCE, PPO), where the agent learns to maximize the expected reward for taking specific actions in different states.\\n* **Flexibility:**  More suited for environments with a clear separation between possible actions.\\n\\n**A2A (Actor-Critic)**\\n\\n* **Focus:** General purpose, applicable to both discrete and continuous action spaces.\\n* **Architecture:** Employs two key components:\\n    * **Actor:** The \"policy network\" that learns to select actions based on the current state.\\n    * **Critic:** The \"value network\" that estimates the expected future rewards for taking actions in given states.\\n* **Training:** The actor network is trained to maximize rewards, guided by the critic network\\'s estimates of state values.  This combination helps the agent learn both good action selection policies and accurate value functions.\\n* **Flexibility:** Particularly powerful for continuous action spaces (e.g., controlling a robot arm), as it can learn smoother, more refined control policies.\\n\\n**Key Differences**\\n\\n* **Action Space:** MCP is generally better for discrete actions, while A2A is more versatile for both discrete and continuous actions.\\n* **Learning Components:** MCP focuses solely on the policy, while A2A integrates both the policy and a value function (critic).\\n* **Complexity:** A2A is typically more complex to implement than MCP due to the additional critic network.\\n\\n**Which to Choose?**\\n\\n* If you have a discrete action space and the problem is relatively straightforward, MCP might be a good starting point.\\n* If you need to handle continuous actions, or if your RL problem is more complex and requires fine-grained control, A2A is likely a better choice.\\n\\n\\n\\nLet me know if you have any more questions or would like to explore specific aspects in more detail!\\n' additional_kwargs={} response_metadata={'token_usage': {'completion_tokens': 472, 'prompt_tokens': 16, 'total_tokens': 488, 'completion_time': 0.858181818, 'prompt_time': 0.001987826, 'queue_time': 0.017746732, 'total_time': 0.860169644}, 'model_name': 'gemma2-9b-it', 'system_fingerprint': 'fp_10c08bf97d', 'finish_reason': 'stop', 'logprobs': None} id='run--aa4e6cf2-4fe4-4ffa-b1af-dae2658ac447-0' usage_metadata={'input_tokens': 16, 'output_tokens': 472, 'total_tokens': 488}\n",
            "Assistant: Let's break down the differences between MCP and A2A agents in the context of reinforcement learning (RL).\n",
            "\n",
            "**MCP (Multi-Category Policy)**\n",
            "\n",
            "* **Focus:** Primarily used in scenarios with discrete action spaces (e.g., selecting one action from a finite set).\n",
            "* **Mechanism:**  MCP agents learn a policy that directly maps observations (states) to individual actions. \n",
            "* **Training:** Typically trained using methods like policy gradient algorithms (e.g., REINFORCE, PPO), where the agent learns to maximize the expected reward for taking specific actions in different states.\n",
            "* **Flexibility:**  More suited for environments with a clear separation between possible actions.\n",
            "\n",
            "**A2A (Actor-Critic)**\n",
            "\n",
            "* **Focus:** General purpose, applicable to both discrete and continuous action spaces.\n",
            "* **Architecture:** Employs two key components:\n",
            "    * **Actor:** The \"policy network\" that learns to select actions based on the current state.\n",
            "    * **Critic:** The \"value network\" that estimates the expected future rewards for taking actions in given states.\n",
            "* **Training:** The actor network is trained to maximize rewards, guided by the critic network's estimates of state values.  This combination helps the agent learn both good action selection policies and accurate value functions.\n",
            "* **Flexibility:** Particularly powerful for continuous action spaces (e.g., controlling a robot arm), as it can learn smoother, more refined control policies.\n",
            "\n",
            "**Key Differences**\n",
            "\n",
            "* **Action Space:** MCP is generally better for discrete actions, while A2A is more versatile for both discrete and continuous actions.\n",
            "* **Learning Components:** MCP focuses solely on the policy, while A2A integrates both the policy and a value function (critic).\n",
            "* **Complexity:** A2A is typically more complex to implement than MCP due to the additional critic network.\n",
            "\n",
            "**Which to Choose?**\n",
            "\n",
            "* If you have a discrete action space and the problem is relatively straightforward, MCP might be a good starting point.\n",
            "* If you need to handle continuous actions, or if your RL problem is more complex and requires fine-grained control, A2A is likely a better choice.\n",
            "\n",
            "\n",
            "\n",
            "Let me know if you have any more questions or would like to explore specific aspects in more detail!\n",
            "\n",
            "user:mcp vs a2a in Gen AI\n",
            "dict_values([{'messages': AIMessage(content='Let\\'s break down the differences between MCP and A2A in the context of generative AI.\\n\\n**MCP (Model-Controlled Prompting)**\\n\\n* **Concept:** MCP involves training a separate AI model specifically designed to craft effective prompts for another, larger generative model. \\n* **How it Works:** The MCP model learns patterns and structures within successful prompts, allowing it to generate prompts that are more likely to elicit desired outputs from the main generative model. \\n* **Benefits:**\\n    * **Improved Output Quality:**  MCP can lead to more accurate, relevant, and creative results from the main generative model.\\n    * **Reduced User Effort:**  It removes the need for users to manually craft complex or specific prompts.\\n    * **Enhanced Customization:**  MCP models can be fine-tuned to specialize in generating prompts for particular tasks or domains.\\n\\n* **Example:** Imagine you have a text generation model. An MCP model could learn from successful examples of prompts that generate different types of stories (fantasy, sci-fi, etc.) and then automatically generate prompts tailored to the user\\'s desired genre.\\n\\n**A2A (AI-to-AI)**\\n\\n* **Concept:** A2A involves having two or more AI models interact with each other, where one model acts as a \"prompt generator\" and the other as the \"response generator.\"\\n* **How it Works:** The prompt-generating AI crafts prompts based on the context of the conversation or a given task. These prompts are then fed to the response-generating AI, which produces the output.\\n* **Benefits:**\\n    * **Collaborative Generation:** A2A allows AI models to work together, leveraging each other\\'s strengths.\\n    * **Iterative Improvement:** The models can refine their outputs through multiple rounds of prompting and responding, leading to increasingly sophisticated results.\\n    * **Emergent Abilities:** The interaction between two AIs can sometimes lead to the emergence of new capabilities or creative solutions.\\n\\n* **Example:** In a chatbot scenario, one AI could generate open-ended questions to guide the conversation, while another AI provides insightful and engaging responses based on those questions.\\n\\n**Key Differences**\\n\\n* **Focus:** MCP primarily focuses on optimizing prompts, while A2A emphasizes the interaction and collaboration between AI models.\\n* **Structure:** MCP usually involves training a separate prompt-generating model, whereas A2A typically involves two or more models working together in a more dynamic fashion.\\n* **Applications:** Both MCP and A2A have wide-ranging applications in generative AI, including text generation, image creation, code writing, and more.\\n\\n\\nLet me know if you have any other questions or would like to explore specific use cases for MCP or A2A!\\n', additional_kwargs={}, response_metadata={'token_usage': {'completion_tokens': 566, 'prompt_tokens': 18, 'total_tokens': 584, 'completion_time': 1.029090909, 'prompt_time': 0.001996286, 'queue_time': 0.016956872, 'total_time': 1.031087195}, 'model_name': 'gemma2-9b-it', 'system_fingerprint': 'fp_10c08bf97d', 'finish_reason': 'stop', 'logprobs': None}, id='run--0e61a5aa-6934-4fde-b1df-1cbde8cda621-0', usage_metadata={'input_tokens': 18, 'output_tokens': 566, 'total_tokens': 584})}])\n",
            "content='Let\\'s break down the differences between MCP and A2A in the context of generative AI.\\n\\n**MCP (Model-Controlled Prompting)**\\n\\n* **Concept:** MCP involves training a separate AI model specifically designed to craft effective prompts for another, larger generative model. \\n* **How it Works:** The MCP model learns patterns and structures within successful prompts, allowing it to generate prompts that are more likely to elicit desired outputs from the main generative model. \\n* **Benefits:**\\n    * **Improved Output Quality:**  MCP can lead to more accurate, relevant, and creative results from the main generative model.\\n    * **Reduced User Effort:**  It removes the need for users to manually craft complex or specific prompts.\\n    * **Enhanced Customization:**  MCP models can be fine-tuned to specialize in generating prompts for particular tasks or domains.\\n\\n* **Example:** Imagine you have a text generation model. An MCP model could learn from successful examples of prompts that generate different types of stories (fantasy, sci-fi, etc.) and then automatically generate prompts tailored to the user\\'s desired genre.\\n\\n**A2A (AI-to-AI)**\\n\\n* **Concept:** A2A involves having two or more AI models interact with each other, where one model acts as a \"prompt generator\" and the other as the \"response generator.\"\\n* **How it Works:** The prompt-generating AI crafts prompts based on the context of the conversation or a given task. These prompts are then fed to the response-generating AI, which produces the output.\\n* **Benefits:**\\n    * **Collaborative Generation:** A2A allows AI models to work together, leveraging each other\\'s strengths.\\n    * **Iterative Improvement:** The models can refine their outputs through multiple rounds of prompting and responding, leading to increasingly sophisticated results.\\n    * **Emergent Abilities:** The interaction between two AIs can sometimes lead to the emergence of new capabilities or creative solutions.\\n\\n* **Example:** In a chatbot scenario, one AI could generate open-ended questions to guide the conversation, while another AI provides insightful and engaging responses based on those questions.\\n\\n**Key Differences**\\n\\n* **Focus:** MCP primarily focuses on optimizing prompts, while A2A emphasizes the interaction and collaboration between AI models.\\n* **Structure:** MCP usually involves training a separate prompt-generating model, whereas A2A typically involves two or more models working together in a more dynamic fashion.\\n* **Applications:** Both MCP and A2A have wide-ranging applications in generative AI, including text generation, image creation, code writing, and more.\\n\\n\\nLet me know if you have any other questions or would like to explore specific use cases for MCP or A2A!\\n' additional_kwargs={} response_metadata={'token_usage': {'completion_tokens': 566, 'prompt_tokens': 18, 'total_tokens': 584, 'completion_time': 1.029090909, 'prompt_time': 0.001996286, 'queue_time': 0.016956872, 'total_time': 1.031087195}, 'model_name': 'gemma2-9b-it', 'system_fingerprint': 'fp_10c08bf97d', 'finish_reason': 'stop', 'logprobs': None} id='run--0e61a5aa-6934-4fde-b1df-1cbde8cda621-0' usage_metadata={'input_tokens': 18, 'output_tokens': 566, 'total_tokens': 584}\n",
            "Assistant: Let's break down the differences between MCP and A2A in the context of generative AI.\n",
            "\n",
            "**MCP (Model-Controlled Prompting)**\n",
            "\n",
            "* **Concept:** MCP involves training a separate AI model specifically designed to craft effective prompts for another, larger generative model. \n",
            "* **How it Works:** The MCP model learns patterns and structures within successful prompts, allowing it to generate prompts that are more likely to elicit desired outputs from the main generative model. \n",
            "* **Benefits:**\n",
            "    * **Improved Output Quality:**  MCP can lead to more accurate, relevant, and creative results from the main generative model.\n",
            "    * **Reduced User Effort:**  It removes the need for users to manually craft complex or specific prompts.\n",
            "    * **Enhanced Customization:**  MCP models can be fine-tuned to specialize in generating prompts for particular tasks or domains.\n",
            "\n",
            "* **Example:** Imagine you have a text generation model. An MCP model could learn from successful examples of prompts that generate different types of stories (fantasy, sci-fi, etc.) and then automatically generate prompts tailored to the user's desired genre.\n",
            "\n",
            "**A2A (AI-to-AI)**\n",
            "\n",
            "* **Concept:** A2A involves having two or more AI models interact with each other, where one model acts as a \"prompt generator\" and the other as the \"response generator.\"\n",
            "* **How it Works:** The prompt-generating AI crafts prompts based on the context of the conversation or a given task. These prompts are then fed to the response-generating AI, which produces the output.\n",
            "* **Benefits:**\n",
            "    * **Collaborative Generation:** A2A allows AI models to work together, leveraging each other's strengths.\n",
            "    * **Iterative Improvement:** The models can refine their outputs through multiple rounds of prompting and responding, leading to increasingly sophisticated results.\n",
            "    * **Emergent Abilities:** The interaction between two AIs can sometimes lead to the emergence of new capabilities or creative solutions.\n",
            "\n",
            "* **Example:** In a chatbot scenario, one AI could generate open-ended questions to guide the conversation, while another AI provides insightful and engaging responses based on those questions.\n",
            "\n",
            "**Key Differences**\n",
            "\n",
            "* **Focus:** MCP primarily focuses on optimizing prompts, while A2A emphasizes the interaction and collaboration between AI models.\n",
            "* **Structure:** MCP usually involves training a separate prompt-generating model, whereas A2A typically involves two or more models working together in a more dynamic fashion.\n",
            "* **Applications:** Both MCP and A2A have wide-ranging applications in generative AI, including text generation, image creation, code writing, and more.\n",
            "\n",
            "\n",
            "Let me know if you have any other questions or would like to explore specific use cases for MCP or A2A!\n",
            "\n",
            "user:q\n",
            "Good Bye, Thank you for using LangGraph Framwork.\n"
          ]
        }
      ],
      "source": [
        "while True:\n",
        "  user_input = input(\"user:\")\n",
        "  if user_input.lower() in ['quit','q']:\n",
        "    print('Good Bye, Thank you for using LangGraph Framwork.')\n",
        "    break\n",
        "  for event in graph.stream({'messages':('user', user_input)}):\n",
        "    print(event.values())\n",
        "    for value in event.values():\n",
        "      print(value['messages'])\n",
        "      print('Assistant:', value['messages'].content)"
      ]
    },
    {
      "cell_type": "code",
      "execution_count": null,
      "metadata": {
        "id": "SrJAVkY9Aq5B"
      },
      "outputs": [],
      "source": []
    }
  ],
  "metadata": {
    "accelerator": "GPU",
    "colab": {
      "gpuType": "T4",
      "provenance": []
    },
    "kernelspec": {
      "display_name": "Python 3",
      "name": "python3"
    },
    "language_info": {
      "name": "python"
    }
  },
  "nbformat": 4,
  "nbformat_minor": 0
}
